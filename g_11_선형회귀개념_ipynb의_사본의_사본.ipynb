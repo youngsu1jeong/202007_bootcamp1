{
  "nbformat": 4,
  "nbformat_minor": 0,
  "metadata": {
    "kernelspec": {
      "display_name": "Python 3",
      "language": "python",
      "name": "python3"
    },
    "language_info": {
      "codemirror_mode": {
        "name": "ipython",
        "version": 3
      },
      "file_extension": ".py",
      "mimetype": "text/x-python",
      "name": "python",
      "nbconvert_exporter": "python",
      "pygments_lexer": "ipython3",
      "version": "3.6.6"
    },
    "colab": {
      "name": "g_11_선형회귀개념.ipynb의 사본의 사본",
      "provenance": [],
      "collapsed_sections": [],
      "include_colab_link": true
    }
  },
  "cells": [
    {
      "cell_type": "markdown",
      "metadata": {
        "id": "view-in-github",
        "colab_type": "text"
      },
      "source": [
        "<a href=\"https://colab.research.google.com/github/youngsu1jeong/202007_bootcamp1/blob/master/g_11_%E1%84%89%E1%85%A5%E1%86%AB%E1%84%92%E1%85%A7%E1%86%BC%E1%84%92%E1%85%AC%E1%84%80%E1%85%B1%EA%B0%9C%EB%85%90_ipynb%EC%9D%98_%EC%82%AC%EB%B3%B8%EC%9D%98_%EC%82%AC%EB%B3%B8.ipynb\" target=\"_parent\"><img src=\"https://colab.research.google.com/assets/colab-badge.svg\" alt=\"Open In Colab\"/></a>"
      ]
    },
    {
      "cell_type": "markdown",
      "metadata": {
        "id": "Dji53O40dPED",
        "colab_type": "text"
      },
      "source": [
        "선형회귀\n",
        "==\n",
        "- 선형회귀 함수사용\n",
        "- 경사하강법 동작 이해"
      ]
    },
    {
      "cell_type": "markdown",
      "metadata": {
        "id": "eT71GBzTd_kG",
        "colab_type": "text"
      },
      "source": [
        "## 선형회귀 함수 사용법"
      ]
    },
    {
      "cell_type": "code",
      "metadata": {
        "id": "OhhpOOGhdPEG",
        "colab_type": "code",
        "colab": {
          "base_uri": "https://localhost:8080/",
          "height": 283
        },
        "outputId": "c7a6f216-1029-484a-a9fc-5f3871659f9d"
      },
      "source": [
        "import numpy as np\n",
        "import pandas as pd\n",
        "import matplotlib.pyplot as plt\n",
        "%matplotlib inline\n",
        "%config InlineBackend.figure_format = 'retina' #맥북에만 해당. 그림이쁘게 \n",
        "\n",
        "n_samples = 200\n",
        "x = np.random.randn(n_samples) # x 생성\n",
        "\n",
        "# 계수 및 절편\n",
        "w = 2\n",
        "b = 3\n",
        "# 노이지 추가\n",
        "y = w*x + b  + np.random.randn(n_samples) #실제 y 값 생성\n",
        "plt.scatter(x,y, s=10)"
      ],
      "execution_count": 14,
      "outputs": [
        {
          "output_type": "execute_result",
          "data": {
            "text/plain": [
              "<matplotlib.collections.PathCollection at 0x7f32b15d8748>"
            ]
          },
          "metadata": {
            "tags": []
          },
          "execution_count": 14
        },
        {
          "output_type": "display_data",
          "data": {
            "image/png": "[encoded data removed]",
            "text/plain": [
              "<Figure size 432x288 with 1 Axes>"
            ]
          },
          "metadata": {
            "tags": [],
            "image/png": {
              "width": 370,
              "height": 248
            },
            "needs_background": "light"
          }
        }
      ]
    },
    {
      "cell_type": "code",
      "metadata": {
        "id": "-_G1Qr6TdPEM",
        "colab_type": "code",
        "colab": {
          "base_uri": "https://localhost:8080/",
          "height": 53
        },
        "outputId": "15f8882e-7e65-4e88-b708-272025ed5e74"
      },
      "source": [
        "np.corrcoef(x,y)"
      ],
      "execution_count": 15,
      "outputs": [
        {
          "output_type": "execute_result",
          "data": {
            "text/plain": [
              "array([[1.        , 0.88412464],\n",
              "       [0.88412464, 1.        ]])"
            ]
          },
          "metadata": {
            "tags": []
          },
          "execution_count": 15
        }
      ]
    },
    {
      "cell_type": "code",
      "metadata": {
        "id": "jNa4akPSdPEQ",
        "colab_type": "code",
        "colab": {
          "base_uri": "https://localhost:8080/",
          "height": 53
        },
        "outputId": "1cf1806d-501f-4041-efc0-e87bb7653625"
      },
      "source": [
        "from sklearn.linear_model import LinearRegression\n",
        "leg = LinearRegression() # (1) 모델 생성\n",
        "leg.fit(x.reshape(-1,1), y) # (2) 학습 \n",
        "\n",
        "print(leg.coef_)\n",
        "print(leg.intercept_)"
      ],
      "execution_count": 16,
      "outputs": [
        {
          "output_type": "stream",
          "text": [
            "[1.98194522]\n",
            "2.8576283720969444\n"
          ],
          "name": "stdout"
        }
      ]
    },
    {
      "cell_type": "markdown",
      "metadata": {
        "id": "KcCTA465e70_",
        "colab_type": "text"
      },
      "source": [
        "## 모델을 예측에 사용하기"
      ]
    },
    {
      "cell_type": "code",
      "metadata": {
        "id": "WWkkUZaWeuik",
        "colab_type": "code",
        "colab": {
          "base_uri": "https://localhost:8080/",
          "height": 35
        },
        "outputId": "89338593-7441-401e-ebbc-235c1e1c8336"
      },
      "source": [
        "leg.predict([[1],[5],[10]]) # (3) 모델 사용(회귀,분류) inference"
      ],
      "execution_count": 17,
      "outputs": [
        {
          "output_type": "execute_result",
          "data": {
            "text/plain": [
              "array([ 4.83957359, 12.76735445, 22.67708053])"
            ]
          },
          "metadata": {
            "tags": []
          },
          "execution_count": 17
        }
      ]
    },
    {
      "cell_type": "markdown",
      "metadata": {
        "id": "rz97pUnieFG1",
        "colab_type": "text"
      },
      "source": [
        "## 경사하강법 구현"
      ]
    },
    {
      "cell_type": "markdown",
      "metadata": {
        "colab_type": "text",
        "id": "hRjW17p9d7tF"
      },
      "source": [
        "변수가 1개인 경우\n",
        "--"
      ]
    },
    {
      "cell_type": "code",
      "metadata": {
        "scrolled": false,
        "colab_type": "code",
        "id": "o5UNgpdNd7tV",
        "colab": {
          "base_uri": "https://localhost:8080/",
          "height": 215
        },
        "outputId": "d46aa8e2-61e2-4798-de5b-b2108fa58de2"
      },
      "source": [
        "num_epoch = 10\n",
        "lr = 0.01 # 뮤 상수\n",
        "\n",
        "w = np.random.uniform()\n",
        "b = np.random.uniform()\n",
        "print(w,b)\n",
        "\n",
        "for epoch in range(num_epoch): # 경사하강법 구현\n",
        "    y_pred = w*x + b\n",
        "    error = np.abs(y_pred - y).mean()\n",
        "    print(f\"{epoch:2} w1 = {w:.6f}, b = {b:.6f} , error = {error:.6f}\")\n",
        "\n",
        "    w = w - lr*((y_pred - y)* x).mean() #경사하강법 wn = wn-1 -M(e*x).mean()\n",
        "    b = b - lr*((y_pred - y)).mean() # bias 이기 때문 입력량(x) 와 상관없음 "
      ],
      "execution_count": 22,
      "outputs": [
        {
          "output_type": "stream",
          "text": [
            "0.5139148511252131 0.14646097116719192\n",
            " 0 w1 = 0.513915, b = 0.146461 , error = 2.781461\n",
            " 1 w1 = 0.527777, b = 0.173389 , error = 2.755299\n",
            " 2 w1 = 0.541509, b = 0.200050 , error = 2.729395\n",
            " 3 w1 = 0.555111, b = 0.226446 , error = 2.703748\n",
            " 4 w1 = 0.568585, b = 0.252580 , error = 2.678355\n",
            " 5 w1 = 0.581931, b = 0.278454 , error = 2.653325\n",
            " 6 w1 = 0.595152, b = 0.304071 , error = 2.628758\n",
            " 7 w1 = 0.608248, b = 0.329433 , error = 2.604434\n",
            " 8 w1 = 0.621221, b = 0.354544 , error = 2.580351\n",
            " 9 w1 = 0.634071, b = 0.379405 , error = 2.556505\n"
          ],
          "name": "stdout"
        }
      ]
    },
    {
      "cell_type": "markdown",
      "metadata": {
        "id": "eu6hl1RrdPET",
        "colab_type": "text"
      },
      "source": [
        "변수가 2개인 경우\n",
        "--"
      ]
    },
    {
      "cell_type": "code",
      "metadata": {
        "id": "uMvk79oHdPEU",
        "colab_type": "code",
        "colab": {
          "base_uri": "https://localhost:8080/",
          "height": 53
        },
        "outputId": "f9453515-2709-452b-a353-13c3257abfb9"
      },
      "source": [
        "n_samples = 200\n",
        "x1 = np.random.randn(n_samples)\n",
        "x2 = np.random.randn(n_samples)\n",
        "\n",
        "y = 2 * x1 + 3 * x2 + 4 + np.random.randn(n_samples)\n",
        "\n",
        "leg = LinearRegression()\n",
        "X = pd.DataFrame({'x1':x1, 'x2':x2})\n",
        "leg.fit(X, y)\n",
        "\n",
        "print(leg.coef_)\n",
        "print(leg.intercept_)"
      ],
      "execution_count": 8,
      "outputs": [
        {
          "output_type": "stream",
          "text": [
            "[1.97849026 3.08743473]\n",
            "4.034317609791507\n"
          ],
          "name": "stdout"
        }
      ]
    },
    {
      "cell_type": "code",
      "metadata": {
        "id": "s32v7aQudPEY",
        "colab_type": "code",
        "colab": {
          "base_uri": "https://localhost:8080/",
          "height": 35
        },
        "outputId": "77136070-224f-4953-fd2b-0e61d505f9cc"
      },
      "source": [
        "leg.score(X,y) # R square"
      ],
      "execution_count": 9,
      "outputs": [
        {
          "output_type": "execute_result",
          "data": {
            "text/plain": [
              "0.906868154195894"
            ]
          },
          "metadata": {
            "tags": []
          },
          "execution_count": 9
        }
      ]
    },
    {
      "cell_type": "markdown",
      "metadata": {
        "id": "ALIlKV_jdPEc",
        "colab_type": "text"
      },
      "source": [
        "경사하강법\n",
        "--"
      ]
    },
    {
      "cell_type": "code",
      "metadata": {
        "scrolled": false,
        "id": "o-aYcmQOdPEd",
        "colab_type": "code",
        "colab": {
          "base_uri": "https://localhost:8080/",
          "height": 197
        },
        "outputId": "1a4fdbd7-1951-40b8-c0f1-25005d36976d"
      },
      "source": [
        "num_epoch = 10\n",
        "lr = 0.7\n",
        "\n",
        "w1 = np.random.uniform()\n",
        "w2 = np.random.uniform()\n",
        "b = np.random.uniform()\n",
        "\n",
        "for epoch in range(num_epoch):\n",
        "    y_pred = w1*x1 + w2*x2 + b\n",
        "    error = np.abs(y_pred - y).mean()\n",
        "    print(f\"{epoch:2} w1 = {w1:.6f},  w2 = {w2:.6f}, b = {b:.6f} , error = {error:.6f}\")\n",
        "\n",
        "    w1 = w1 - lr*((y_pred - y)* x1).mean()\n",
        "    w2 = w2 - lr*((y_pred - y)* x2).mean()\n",
        "    b = b - lr*((y_pred - y)).mean()"
      ],
      "execution_count": 10,
      "outputs": [
        {
          "output_type": "stream",
          "text": [
            " 0 w1 = 0.626137,  w2 = 0.801398, b = 0.205456 , error = 3.834060\n",
            " 1 w1 = 1.394066,  w2 = 1.821559, b = 2.791722 , error = 1.583999\n",
            " 2 w1 = 1.718001,  w2 = 2.418902, b = 3.614487 , error = 0.988107\n",
            " 3 w1 = 1.858787,  w2 = 2.743390, b = 3.884974 , error = 0.864547\n",
            " 4 w1 = 1.922099,  w2 = 2.912982, b = 3.977908 , error = 0.830900\n",
            " 5 w1 = 1.951439,  w2 = 2.999740, b = 4.011640 , error = 0.821850\n",
            " 6 w1 = 1.965352,  w2 = 3.043579, b = 4.024660 , error = 0.818660\n",
            " 7 w1 = 1.972058,  w2 = 3.065570, b = 4.030005 , error = 0.817461\n",
            " 8 w1 = 1.975325,  w2 = 3.076554, b = 4.032322 , error = 0.817064\n",
            " 9 w1 = 1.976927,  w2 = 3.082027, b = 4.033371 , error = 0.816992\n"
          ],
          "name": "stdout"
        }
      ]
    },
    {
      "cell_type": "code",
      "metadata": {
        "id": "SzI_9y8bdPEl",
        "colab_type": "code",
        "colab": {}
      },
      "source": [
        ""
      ],
      "execution_count": null,
      "outputs": []
    },
    {
      "cell_type": "code",
      "metadata": {
        "id": "x-3xzT1sdPEo",
        "colab_type": "code",
        "colab": {}
      },
      "source": [
        ""
      ],
      "execution_count": null,
      "outputs": []
    }
  ]
}