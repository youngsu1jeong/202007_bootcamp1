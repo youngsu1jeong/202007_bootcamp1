{
  "nbformat": 4,
  "nbformat_minor": 0,
  "metadata": {
    "kernelspec": {
      "display_name": "Python 3",
      "language": "python",
      "name": "python3"
    },
    "language_info": {
      "codemirror_mode": {
        "name": "ipython",
        "version": 3
      },
      "file_extension": ".py",
      "mimetype": "text/x-python",
      "name": "python",
      "nbconvert_exporter": "python",
      "pygments_lexer": "ipython3",
      "version": "3.6.6"
    },
    "colab": {
      "name": "g_28_시계열MLP.ipynb의 사본",
      "provenance": [],
      "collapsed_sections": [],
      "include_colab_link": true
    }
  },
  "cells": [
    {
      "cell_type": "markdown",
      "metadata": {
        "id": "view-in-github",
        "colab_type": "text"
      },
      "source": [
        "<a href=\"https://colab.research.google.com/github/youngsu1jeong/202007_bootcamp1/blob/master/g_28_%E1%84%89%E1%85%B5%E1%84%80%E1%85%A8%E1%84%8B%E1%85%A7%E1%86%AFMLP_ipynb%EC%9D%98_%EC%82%AC%EB%B3%B8.ipynb\" target=\"_parent\"><img src=\"https://colab.research.google.com/assets/colab-badge.svg\" alt=\"Open In Colab\"/></a>"
      ]
    },
    {
      "cell_type": "markdown",
      "metadata": {
        "id": "HL_V54iwLj5g",
        "colab_type": "text"
      },
      "source": [
        "# Sequence Analysis\n",
        "- Forecasting (예측, Regression)\n",
        "- Pattern Classification\n",
        "\n",
        "## 런타임 유형 GPU, 크롬으로 접속"
      ]
    },
    {
      "cell_type": "markdown",
      "metadata": {
        "id": "IM6iOIIuLj5m",
        "colab_type": "text"
      },
      "source": [
        "## 예측\n",
        "### 선형모델과 딥러닝모델 비교"
      ]
    },
    {
      "cell_type": "code",
      "metadata": {
        "id": "SUl76n8MLj5n",
        "colab_type": "code",
        "colab": {
          "base_uri": "https://localhost:8080/",
          "height": 34
        },
        "outputId": "a67d32db-f090-4d57-ff97-3f37ef868b0e"
      },
      "source": [
        "import numpy as np\n",
        "from numpy import array\n",
        "from sklearn.linear_model import LinearRegression\n",
        "%tensorflow_version 2.x\n",
        "from keras import Sequential\n",
        "from keras.layers import Dense\n",
        "import warnings\n",
        "warnings.simplefilter('ignore')\n"
      ],
      "execution_count": null,
      "outputs": [
        {
          "output_type": "stream",
          "text": [
            "TensorFlow is already loaded. Please restart the runtime to change versions.\n"
          ],
          "name": "stdout"
        }
      ]
    },
    {
      "cell_type": "markdown",
      "metadata": {
        "id": "DXnxdh0VcyMs",
        "colab_type": "text"
      },
      "source": [
        "### 입력 및 예측 데이터 생성 (X, y)"
      ]
    },
    {
      "cell_type": "code",
      "metadata": {
        "id": "-_ge9Z3fLj5q",
        "colab_type": "code",
        "colab": {}
      },
      "source": [
        "def split_data(data, n_steps):\n",
        "    x, y = [], []\n",
        "    for i in range(len(data)):\n",
        "        if i > len(data) - n_steps - 1 : break\n",
        "        x.append(data[i:i+n_steps])\n",
        "        y.append(data[i+n_steps])\n",
        "    return np.array(x), np.array(y)"
      ],
      "execution_count": null,
      "outputs": []
    },
    {
      "cell_type": "code",
      "metadata": {
        "id": "-xy3X5bOLj5s",
        "colab_type": "code",
        "colab": {
          "base_uri": "https://localhost:8080/",
          "height": 134
        },
        "outputId": "f6a171eb-5b4e-4666-895a-14986d05ee6a"
      },
      "source": [
        "data = [1, 2, 3, 4, 5, 6, 7, 8, 9, 10]\n",
        "n_steps=3\n",
        "X, y = split_data(data, n_steps)\n",
        "for i in range(len(X)):\n",
        "  print(X[i], y[i])"
      ],
      "execution_count": null,
      "outputs": [
        {
          "output_type": "stream",
          "text": [
            "[1 2 3] 4\n",
            "[2 3 4] 5\n",
            "[3 4 5] 6\n",
            "[4 5 6] 7\n",
            "[5 6 7] 8\n",
            "[6 7 8] 9\n",
            "[7 8 9] 10\n"
          ],
          "name": "stdout"
        }
      ]
    },
    {
      "cell_type": "markdown",
      "metadata": {
        "id": "Em31uf28Lj5w",
        "colab_type": "text"
      },
      "source": [
        "### 선형모델 (Linear Prediction)"
      ]
    },
    {
      "cell_type": "code",
      "metadata": {
        "id": "wD3doDtkLj5x",
        "colab_type": "code",
        "colab": {
          "base_uri": "https://localhost:8080/",
          "height": 34
        },
        "outputId": "5e66c15e-7e05-42dc-a151-41927c4e5aec"
      },
      "source": [
        "data = [1, 2, 3, 4, 5, 6, 7, 8, 9, 10]\n",
        "n_steps=3\n",
        "X, y = split_data(data, n_steps)\n",
        "lr = LinearRegression()\n",
        "lr.fit(X, y) "
      ],
      "execution_count": null,
      "outputs": [
        {
          "output_type": "execute_result",
          "data": {
            "text/plain": [
              "LinearRegression(copy_X=True, fit_intercept=True, n_jobs=None, normalize=False)"
            ]
          },
          "metadata": {
            "tags": []
          },
          "execution_count": 8
        }
      ]
    },
    {
      "cell_type": "code",
      "metadata": {
        "id": "xDynfvfgd6Ni",
        "colab_type": "code",
        "colab": {
          "base_uri": "https://localhost:8080/",
          "height": 34
        },
        "outputId": "16444439-8471-41a9-b443-e94478ea8f3e"
      },
      "source": [
        "x_input = array([7, 8, 9])\n",
        "x_input = x_input.reshape(-1, n_steps)\n",
        "lr.predict(x_input)"
      ],
      "execution_count": null,
      "outputs": [
        {
          "output_type": "execute_result",
          "data": {
            "text/plain": [
              "array([10.])"
            ]
          },
          "metadata": {
            "tags": []
          },
          "execution_count": 10
        }
      ]
    },
    {
      "cell_type": "code",
      "metadata": {
        "id": "BK4ZeCT3Lj5z",
        "colab_type": "code",
        "colab": {
          "base_uri": "https://localhost:8080/",
          "height": 34
        },
        "outputId": "efcce127-ed7d-47ea-d1d9-793bd46bd42e"
      },
      "source": [
        "x_input = array([[0.7, 0.8, 0.9],[70, 80, 90],[700, 800, 900]])\n",
        "x_input = x_input.reshape(-1, n_steps)\n",
        "lr.predict(x_input)"
      ],
      "execution_count": null,
      "outputs": [
        {
          "output_type": "execute_result",
          "data": {
            "text/plain": [
              "array([  2.8,  82. , 802. ])"
            ]
          },
          "metadata": {
            "tags": []
          },
          "execution_count": 11
        }
      ]
    },
    {
      "cell_type": "code",
      "metadata": {
        "id": "OEwLXCjbeGvz",
        "colab_type": "code",
        "colab": {
          "base_uri": "https://localhost:8080/",
          "height": 34
        },
        "outputId": "6f56910a-9c05-487e-9293-09a0c6e03108"
      },
      "source": [
        "lr.coef_, lr.intercept_"
      ],
      "execution_count": null,
      "outputs": [
        {
          "output_type": "execute_result",
          "data": {
            "text/plain": [
              "(array([0.33333333, 0.33333333, 0.33333333]), 2.0)"
            ]
          },
          "metadata": {
            "tags": []
          },
          "execution_count": 13
        }
      ]
    },
    {
      "cell_type": "markdown",
      "metadata": {
        "id": "8rKbp-aTLj52",
        "colab_type": "text"
      },
      "source": [
        "## MLP 모델 사용\n",
        "- Multi Layer Perceptron"
      ]
    },
    {
      "cell_type": "code",
      "metadata": {
        "scrolled": true,
        "id": "OHqeWK2cLj52",
        "colab_type": "code",
        "colab": {
          "base_uri": "https://localhost:8080/",
          "height": 134
        },
        "outputId": "fafe4d9a-8df5-409b-8437-baf45f2ba69c"
      },
      "source": [
        "n_steps = 3\n",
        "X, y = split_data(data, n_steps)\n",
        "for i in range(len(X)):\n",
        "  print(X[i], y[i])"
      ],
      "execution_count": null,
      "outputs": [
        {
          "output_type": "stream",
          "text": [
            "[1 2 3] 4\n",
            "[2 3 4] 5\n",
            "[3 4 5] 6\n",
            "[4 5 6] 7\n",
            "[5 6 7] 8\n",
            "[6 7 8] 9\n",
            "[7 8 9] 10\n"
          ],
          "name": "stdout"
        }
      ]
    },
    {
      "cell_type": "code",
      "metadata": {
        "id": "A87-ML4DLj55",
        "colab_type": "code",
        "colab": {}
      },
      "source": [
        "model = Sequential()\n",
        "model.add(Dense(100, activation='relu', input_dim=n_steps)) \n",
        "model.add(Dense(100)) \n",
        "model.add(Dense(100)) \n",
        "model.add(Dense(1))\n",
        "model.compile(optimizer='adam', loss='mse')"
      ],
      "execution_count": null,
      "outputs": []
    },
    {
      "cell_type": "code",
      "metadata": {
        "id": "92AeKkGcLj57",
        "colab_type": "code",
        "colab": {
          "base_uri": "https://localhost:8080/",
          "height": 34
        },
        "outputId": "24009a32-1e8a-4e00-87a1-2b1b98b654fa"
      },
      "source": [
        "model.fit(X, y, epochs=1000, verbose=0)"
      ],
      "execution_count": null,
      "outputs": [
        {
          "output_type": "execute_result",
          "data": {
            "text/plain": [
              "<keras.callbacks.History at 0x7f10c86f4a58>"
            ]
          },
          "metadata": {
            "tags": []
          },
          "execution_count": 47
        }
      ]
    },
    {
      "cell_type": "code",
      "metadata": {
        "id": "WkAmB3pnLj59",
        "colab_type": "code",
        "colab": {
          "base_uri": "https://localhost:8080/",
          "height": 84
        },
        "outputId": "432dee08-ca9c-4d90-ebca-01f7450bd924"
      },
      "source": [
        "x_input = array([[0.7, 0.8, 0.9],[7, 8, 9],[70, 80, 90],[700, 800, 900]])\n",
        "x_input = x_input.reshape((-1, n_steps))\n",
        "model.predict(x_input, verbose=0)"
      ],
      "execution_count": null,
      "outputs": [
        {
          "output_type": "execute_result",
          "data": {
            "text/plain": [
              "array([[  1.4683497],\n",
              "       [  9.999862 ],\n",
              "       [ 95.67914  ],\n",
              "       [952.67615  ]], dtype=float32)"
            ]
          },
          "metadata": {
            "tags": []
          },
          "execution_count": 48
        }
      ]
    },
    {
      "cell_type": "code",
      "metadata": {
        "id": "mH9VQXQaLj6A",
        "colab_type": "code",
        "colab": {}
      },
      "source": [
        ""
      ],
      "execution_count": null,
      "outputs": []
    },
    {
      "cell_type": "code",
      "metadata": {
        "id": "JielXY1CLj6C",
        "colab_type": "code",
        "colab": {}
      },
      "source": [
        ""
      ],
      "execution_count": null,
      "outputs": []
    }
  ]
}